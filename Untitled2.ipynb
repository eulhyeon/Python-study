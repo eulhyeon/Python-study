{
 "cells": [
  {
   "cell_type": "code",
   "execution_count": 1,
   "metadata": {},
   "outputs": [],
   "source": [
    "import numpy as np\n",
    "import pandas as pd\n",
    "import os"
   ]
  },
  {
   "cell_type": "code",
   "execution_count": 2,
   "metadata": {},
   "outputs": [],
   "source": [
    "from catboost.datasets import amazon\n",
    "train, test = amazon()"
   ]
  },
  {
   "cell_type": "code",
   "execution_count": 5,
   "metadata": {},
   "outputs": [],
   "source": [
    "col4train = [x for x in train.columns if x not in ['ACTION', 'ROLE_TITLE']]"
   ]
  },
  {
   "cell_type": "code",
   "execution_count": 6,
   "metadata": {},
   "outputs": [
    {
     "data": {
      "text/plain": [
       "['RESOURCE',\n",
       " 'MGR_ID',\n",
       " 'ROLE_ROLLUP_1',\n",
       " 'ROLE_ROLLUP_2',\n",
       " 'ROLE_DEPTNAME',\n",
       " 'ROLE_FAMILY_DESC',\n",
       " 'ROLE_FAMILY',\n",
       " 'ROLE_CODE']"
      ]
     },
     "execution_count": 6,
     "metadata": {},
     "output_type": "execute_result"
    }
   ],
   "source": [
    "col4train"
   ]
  },
  {
   "cell_type": "code",
   "execution_count": 9,
   "metadata": {},
   "outputs": [],
   "source": [
    "from sklearn.ensemble import ExtraTreesClassifier\n",
    "from sklearn.model_selection import cross_validate\n",
    "from sklearn.model_selection import StratifiedKFold   # 학습 label과 검증 label의 데이터 분포를 동일하게 가져감\n",
    "# 참고 url : https://continuous-development.tistory.com/166"
   ]
  },
  {
   "cell_type": "code",
   "execution_count": null,
   "metadata": {},
   "outputs": [],
   "source": [
    "def get_model():\n",
    "    params = {\n",
    "        \"n_estimator\" = 300\n",
    "        ,\"n_jobs\" = 2\n",
    "        ,\"random_state\" = 432\n",
    "    }\n",
    "    return ExtraTreesClassifier(**params)\n",
    "\n",
    "def validate_model(model, data):\n",
    "    skf = StratifiedKFold(n_splits=5, random_state=4141, shuffle=True)\n",
    "    stats = cross_validate(\n",
    "        model,data[0],data[1]\n",
    "        ,cv=skf\n",
    "        ,n_jobs=2\n",
    "        ,scoring='roc_auc'\n",
    "        ,return_train_score=True\n",
    "    )\n",
    "    stats = pd.DataFrame(stats)\n",
    "    return stats.describe().transpose()\n",
    "\n"
   ]
  }
 ],
 "metadata": {
  "kernelspec": {
   "display_name": "Python 3",
   "language": "python",
   "name": "python3"
  },
  "language_info": {
   "codemirror_mode": {
    "name": "ipython",
    "version": 3
   },
   "file_extension": ".py",
   "mimetype": "text/x-python",
   "name": "python",
   "nbconvert_exporter": "python",
   "pygments_lexer": "ipython3",
   "version": "3.8.5"
  }
 },
 "nbformat": 4,
 "nbformat_minor": 4
}
