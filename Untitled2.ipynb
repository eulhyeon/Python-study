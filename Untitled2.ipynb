{
 "cells": [
  {
   "cell_type": "code",
   "execution_count": 1,
   "metadata": {},
   "outputs": [],
   "source": [
    "import pandas as pd\n",
    "import numpy as np\n",
    "import os"
   ]
  },
  {
   "cell_type": "code",
   "execution_count": 2,
   "metadata": {},
   "outputs": [],
   "source": [
    "from catboost.datasets import amazon"
   ]
  },
  {
   "cell_type": "code",
   "execution_count": 3,
   "metadata": {},
   "outputs": [],
   "source": [
    "train, test = amazon()"
   ]
  },
  {
   "cell_type": "code",
   "execution_count": 4,
   "metadata": {},
   "outputs": [
    {
     "data": {
      "text/plain": [
       "ACTION              0\n",
       "RESOURCE            0\n",
       "MGR_ID              0\n",
       "ROLE_ROLLUP_1       0\n",
       "ROLE_ROLLUP_2       0\n",
       "ROLE_DEPTNAME       0\n",
       "ROLE_TITLE          0\n",
       "ROLE_FAMILY_DESC    0\n",
       "ROLE_FAMILY         0\n",
       "ROLE_CODE           0\n",
       "dtype: int64"
      ]
     },
     "execution_count": 4,
     "metadata": {},
     "output_type": "execute_result"
    }
   ],
   "source": [
    "train.isnull().sum()"
   ]
  },
  {
   "cell_type": "code",
   "execution_count": 5,
   "metadata": {},
   "outputs": [
    {
     "data": {
      "text/plain": [
       "id                  0\n",
       "RESOURCE            0\n",
       "MGR_ID              0\n",
       "ROLE_ROLLUP_1       0\n",
       "ROLE_ROLLUP_2       0\n",
       "ROLE_DEPTNAME       0\n",
       "ROLE_TITLE          0\n",
       "ROLE_FAMILY_DESC    0\n",
       "ROLE_FAMILY         0\n",
       "ROLE_CODE           0\n",
       "dtype: int64"
      ]
     },
     "execution_count": 5,
     "metadata": {},
     "output_type": "execute_result"
    }
   ],
   "source": [
    "test.isnull().sum()"
   ]
  },
  {
   "cell_type": "code",
   "execution_count": 6,
   "metadata": {},
   "outputs": [
    {
     "data": {
      "text/plain": [
       "(32769, 10)"
      ]
     },
     "execution_count": 6,
     "metadata": {},
     "output_type": "execute_result"
    }
   ],
   "source": [
    "train.shape"
   ]
  },
  {
   "cell_type": "code",
   "execution_count": 7,
   "metadata": {},
   "outputs": [
    {
     "data": {
      "text/plain": [
       "(58921, 10)"
      ]
     },
     "execution_count": 7,
     "metadata": {},
     "output_type": "execute_result"
    }
   ],
   "source": [
    "test.shape"
   ]
  },
  {
   "cell_type": "code",
   "execution_count": 16,
   "metadata": {},
   "outputs": [
    {
     "data": {
      "text/plain": [
       "ACTION                 2\n",
       "RESOURCE            7518\n",
       "MGR_ID              4243\n",
       "ROLE_ROLLUP_1        128\n",
       "ROLE_ROLLUP_2        177\n",
       "ROLE_DEPTNAME        449\n",
       "ROLE_TITLE           343\n",
       "ROLE_FAMILY_DESC    2358\n",
       "ROLE_FAMILY           67\n",
       "ROLE_CODE            343\n",
       "dtype: int64"
      ]
     },
     "execution_count": 16,
     "metadata": {},
     "output_type": "execute_result"
    }
   ],
   "source": [
    "train.apply(lambda x : len(x.unique()))  # apply 함수: df에 적용되지 않은 함수를 적용시키기 위함 ?_? (더 알아보기)"
   ]
  },
  {
   "cell_type": "code",
   "execution_count": 25,
   "metadata": {},
   "outputs": [],
   "source": [
    "col4train = [x for x in train.columns if x not in ['ACTION', 'ROLE_TITLE']]"
   ]
  },
  {
   "cell_type": "code",
   "execution_count": 26,
   "metadata": {},
   "outputs": [
    {
     "data": {
      "text/plain": [
       "['RESOURCE',\n",
       " 'MGR_ID',\n",
       " 'ROLE_ROLLUP_1',\n",
       " 'ROLE_ROLLUP_2',\n",
       " 'ROLE_DEPTNAME',\n",
       " 'ROLE_FAMILY_DESC',\n",
       " 'ROLE_FAMILY',\n",
       " 'ROLE_CODE']"
      ]
     },
     "execution_count": 26,
     "metadata": {},
     "output_type": "execute_result"
    }
   ],
   "source": [
    "col4train"
   ]
  },
  {
   "cell_type": "code",
   "execution_count": 28,
   "metadata": {},
   "outputs": [],
   "source": [
    "y = train['ACTION'].values"
   ]
  },
  {
   "cell_type": "markdown",
   "metadata": {},
   "source": [
    "# Unsupervised categorical encodings"
   ]
  },
  {
   "cell_type": "code",
   "execution_count": 33,
   "metadata": {},
   "outputs": [],
   "source": [
    "from sklearn.ensemble import ExtraTreesClassifier     # 분류 모델에서 가장 많이 쓰임(랜덤성이 강하여 가장 일반화가 잘되는 모델)\n",
    "from sklearn.model_selection import StratifiedKFold   # K-Fold와 차이점 중요!!\n",
    "# K-Fold는 단순히 indexing 방식으로 자르는 방식 / Stratified는 train, val의 비율을 동일하게 자르는 방식\n",
    "from sklearn.model_selection import cross_validate    # 모델의 성능 검증 (overfitting 확인)"
   ]
  },
  {
   "cell_type": "code",
   "execution_count": 34,
   "metadata": {},
   "outputs": [],
   "source": [
    "# returns model instance\n",
    "def get_model():\n",
    "    params = {\n",
    "        \"n_estimators\":300,\n",
    "        \"n_jobs\":3,\n",
    "        \"random_state\":5436\n",
    "    }\n",
    "    return ExtraTreesClassifier(**params)\n",
    "\n",
    "# validate model on given dataset and report CV score\n",
    "def Validate_model(model, data):\n",
    "    skf = StratifiedKFold(n_split=5, random_state=4141, shuffle=True)\n",
    "    stats = cross_validate(model, data[0], data[1]            # data[0], data[1] 을 X, y로 두는 이유??? (확필)\n",
    "                          ,cv=skf ,n_jobs=2, scoring='roc_auc', return_train_score=True)\n",
    "    stats = pd.DataFrame(stats)\n",
    "    return stats.describe().transpose()\n",
    "\n",
    "# transforms given train and test datasets using provided function,\n",
    "def transform_dataset(train, test, func, func_params = {}):\n",
    "    dataset = pd.concat([train, test], ignore_index=True)\n",
    "    dataset = func(dataset, **func_params)                   # transform train, test set using provided function\n",
    "    if isinstance(dataset, pd.DataFrame):                    # dataset의 object 명칭 여부에 따라 출력해줌\n",
    "        new_train = dataset.iloc[:train.shape[0],:].reset_index(drop=True)         # dataset이 pd.DataFrame일 경우 실행\n",
    "        new_test = dataset.iloc[train.shape[0]:,:].reset_index(drop=True)          # split dataset\n",
    "    else:\n",
    "        new_train = dataset[:train.shape[0]]\n",
    "        new_test = dataset[train.shape[0]:]\n",
    "    return new_train, new_test"
   ]
  },
  {
   "cell_type": "markdown",
   "metadata": {},
   "source": [
    "### Label Encoding"
   ]
  },
  {
   "cell_type": "code",
   "execution_count": 35,
   "metadata": {},
   "outputs": [],
   "source": [
    "MJTCP = 32292\n",
    "# for each columns in dataset creates N column with random integers\n",
    "def assign_rnd_integer(dataset, number_of_times = 5, seed = MJTCP):\n",
    "    new_dataset = pd.DataFrame()\n",
    "    np.random.seed(seed)\n",
    "    for c in dataset.columns:\n",
    "        for i in range(number_of_times):\n",
    "            col_name = c+\"_\"+str(i)\n",
    "            unique_vals = dataset[c].unique()\n",
    "            labels = np.array(list(range(len(unique_vals))))\n",
    "            np.random.shuffle(labels)\n",
    "            mapping = pd.DataFrame({c: unique_vals, col_name: labels})\n",
    "            new_dataset[col_name] = (dataset[[c]]\n",
    "                                    .merge(mapping, on = c, how = 'left')[col_name]\n",
    "                                    ).values\n",
    "    return new_dataset"
   ]
  },
  {
   "cell_type": "code",
   "execution_count": null,
   "metadata": {},
   "outputs": [],
   "source": []
  }
 ],
 "metadata": {
  "kernelspec": {
   "display_name": "Python 3",
   "language": "python",
   "name": "python3"
  },
  "language_info": {
   "codemirror_mode": {
    "name": "ipython",
    "version": 3
   },
   "file_extension": ".py",
   "mimetype": "text/x-python",
   "name": "python",
   "nbconvert_exporter": "python",
   "pygments_lexer": "ipython3",
   "version": "3.8.5"
  }
 },
 "nbformat": 4,
 "nbformat_minor": 4
}
