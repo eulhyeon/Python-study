{
 "cells": [
  {
   "cell_type": "code",
   "execution_count": 53,
   "metadata": {},
   "outputs": [],
   "source": [
    "import numpy as np\n",
    "import pandas as pd\n",
    "import os"
   ]
  },
  {
   "cell_type": "code",
   "execution_count": 54,
   "metadata": {},
   "outputs": [
    {
     "data": {
      "text/plain": [
       "'/Users/go-eulhyeon/Downloads'"
      ]
     },
     "execution_count": 54,
     "metadata": {},
     "output_type": "execute_result"
    }
   ],
   "source": [
    "os.getcwd()"
   ]
  },
  {
   "cell_type": "code",
   "execution_count": 55,
   "metadata": {},
   "outputs": [
    {
     "data": {
      "text/plain": [
       "['googlechrome.dmg',\n",
       " 'pycharm-community-2020.2.2.dmg',\n",
       " 'prac_210404.ipynb',\n",
       " '비아이매트릭스(200928-원유표이사님)_KR580S1_PC_노트북.pdf',\n",
       " '.DS_Store',\n",
       " '차세정_데모화면설계안 발췌.pdf',\n",
       " 'TESTsql.zip',\n",
       " '.localized',\n",
       " 'Untitled.ipynb',\n",
       " 'jdk-8u271-macosx-x64.dmg',\n",
       " 'submission.csv',\n",
       " 'KakaoTalk_Photo_2020-09-19-14-58-27.jpeg',\n",
       " 'mCNN_문의사항_3세부_201118.pdf',\n",
       " 'SQLDeveloper.app',\n",
       " 'LINUX.X64_193000_db_home.zip',\n",
       " '1002626_Order Conf_2019-12-30_03.36.31.pdf',\n",
       " 'image_1.jpeg',\n",
       " '차세정_화면설계서_20201110_v0.1.pdf',\n",
       " '차세정_연차별개발내용_200928_v0.1 2.xlsx 2.cpgz',\n",
       " 'Docker.dmg',\n",
       " 'image_2.jpeg',\n",
       " 'LINUX.X64_193000_db_home',\n",
       " 'sqldeveloper-19.2.1.247.2212-macosx.app.zip',\n",
       " 'RStudio-1.3.1093.dmg',\n",
       " '차세정_연구책임자회의_3세부_201111_v0.11.pdf',\n",
       " '차세정과제 실무자회의록_3세부_200923.hwp',\n",
       " 'image_3.jpeg',\n",
       " '자가진단표.pdf',\n",
       " 'sqlscript',\n",
       " '차세정_연차별개발내용_200928_v0.1 2.xlsx',\n",
       " '.ipynb_checkpoints',\n",
       " 'sqlscript.zip',\n",
       " 'RStudio-1.3.1093.dmg.download',\n",
       " 'TESTsql',\n",
       " '비아이매트릭스(200928_KR580S1_PC_노트북_수정.pdf',\n",
       " '차세정_연차별개발내용_200928_v0.1 2.xlsx.cpgz']"
      ]
     },
     "execution_count": 55,
     "metadata": {},
     "output_type": "execute_result"
    }
   ],
   "source": [
    "os.listdir()"
   ]
  },
  {
   "cell_type": "code",
   "execution_count": null,
   "metadata": {},
   "outputs": [],
   "source": []
  }
 ],
 "metadata": {
  "kernelspec": {
   "display_name": "Python 3",
   "language": "python",
   "name": "python3"
  },
  "language_info": {
   "codemirror_mode": {
    "name": "ipython",
    "version": 3
   },
   "file_extension": ".py",
   "mimetype": "text/x-python",
   "name": "python",
   "nbconvert_exporter": "python",
   "pygments_lexer": "ipython3",
   "version": "3.8.5"
  }
 },
 "nbformat": 4,
 "nbformat_minor": 4
}
