{
 "cells": [
  {
   "cell_type": "markdown",
   "metadata": {},
   "source": [
    "# Supervised categorical encodings"
   ]
  },
  {
   "cell_type": "code",
   "execution_count": 1,
   "metadata": {},
   "outputs": [],
   "source": [
    "import numpy as np\n",
    "import pandas as pd\n",
    "import os"
   ]
  },
  {
   "cell_type": "code",
   "execution_count": 3,
   "metadata": {},
   "outputs": [],
   "source": [
    "from catboost.datasets import amazon\n",
    "train, test = amazon()\n",
    "target = 'ACTION'\n",
    "col4train = [x for x in train.columns if x not in [target, 'ROLE_TITLE']]"
   ]
  },
  {
   "cell_type": "code",
   "execution_count": 4,
   "metadata": {},
   "outputs": [],
   "source": [
    "y = train[target].values"
   ]
  },
  {
   "cell_type": "code",
   "execution_count": 5,
   "metadata": {},
   "outputs": [],
   "source": [
    "from sklearn.model_selection import StratifiedKFold\n",
    "from sklearn.metrics import roc_auc_score\n",
    "from sklearn.ensemble import ExtraTreesClassifier"
   ]
  },
  {
   "cell_type": "code",
   "execution_count": 8,
   "metadata": {},
   "outputs": [],
   "source": [
    "def get_model():\n",
    "    params = {\n",
    "        \"n_estimators\":300,\n",
    "        \"n_jobs\":3,\n",
    "        \"random_state\":5436\n",
    "    }\n",
    "    return ExtraTreesClassifier"
   ]
  },
  {
   "cell_type": "markdown",
   "metadata": {},
   "source": [
    "### Simple Target Encoding"
   ]
  },
  {
   "cell_type": "code",
   "execution_count": 10,
   "metadata": {},
   "outputs": [],
   "source": [
    "from sklearn.base import BaseEstimator, TransformerMixin"
   ]
  },
  {
   "cell_type": "code",
   "execution_count": 15,
   "metadata": {},
   "outputs": [],
   "source": [
    "class TargetEncoding(BaseEstimator, TransformerMixin):\n",
    "    def __init__(self, columns_names):\n",
    "        self.columns_names = columns_names\n",
    "        self.learned_values = {}\n",
    "        self.dataset_mean = np.nan\n",
    "        \n",
    "    def fit(self, X, y, **fit_params):\n",
    "        X_ = X.copy()\n",
    "        self.learned_values = {}\n",
    "        X_[\"__target__\"] = y\n",
    "        for c in [x for x in X_.columns if x in self.columns_names]:\n",
    "            self.learned_values[c] = (X_[[c, \"__target__\"]].groupby(c)[\"__target__\"]\n",
    "                                      .mean().reset_index())\n",
    "            self.dataset_mean = np.mean(y)\n",
    "            return self\n",
    "        \n",
    "    def transform(self, X, **fit_params):\n",
    "        transformed_X = X[self.columns_names].copy()\n",
    "        for c in transformed_X.columns:\n",
    "            transformed_X[c] = (transformed_X[[c]]\n",
    "                                .merge(self.learned_values[c], on = c, how = 'left')\n",
    "                               )[\"__target__\"]\n",
    "            transformed_X = transformed_X.fillna(self.dataset_mean)\n",
    "            return transformed_X\n",
    "        \n",
    "    def fit_transform(self, X, y ,**fit_params):\n",
    "        self.fit(X,y)\n",
    "        return self.transform(X)"
   ]
  },
  {
   "cell_type": "code",
   "execution_count": null,
   "metadata": {},
   "outputs": [],
   "source": []
  }
 ],
 "metadata": {
  "kernelspec": {
   "display_name": "Python 3",
   "language": "python",
   "name": "python3"
  },
  "language_info": {
   "codemirror_mode": {
    "name": "ipython",
    "version": 3
   },
   "file_extension": ".py",
   "mimetype": "text/x-python",
   "name": "python",
   "nbconvert_exporter": "python",
   "pygments_lexer": "ipython3",
   "version": "3.8.5"
  }
 },
 "nbformat": 4,
 "nbformat_minor": 4
}
