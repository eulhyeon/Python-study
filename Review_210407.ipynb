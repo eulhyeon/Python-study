{
 "cells": [
  {
   "cell_type": "code",
   "execution_count": 1,
   "metadata": {},
   "outputs": [],
   "source": [
    "# ExtraTree -> 가장 많이 쓰임(가장 랜덤성이 강하여 가장 일반화가 잘되는 모델)\n",
    "# StratifiedKfole : dog, cat 분류 모델을 예로 들 경우, 데이터 분포가 극단적이거나 한가지(label)가 없거나 하는 평향되는 문제 발생할 수 있음 \n",
    "# 개(70%), 고양이(30%) 일때, 100개의 데이터에서 14개, 6개로 fold한다\n",
    "# 데이터가 치우쳐져 있을때, 데이터가 적을 때 -> StratifiedKfold 를 사용!! 주로 사용함!!!"
   ]
  },
  {
   "cell_type": "code",
   "execution_count": 2,
   "metadata": {},
   "outputs": [],
   "source": [
    "# ex) **params \n",
    "#* : 특정한 object의 값(리스트 등)들을 반환\n",
    "# ** : key value 쌍(key word argument)을 반환"
   ]
  },
  {
   "cell_type": "code",
   "execution_count": 3,
   "metadata": {},
   "outputs": [],
   "source": [
    "# isinstance(dataset, pd.DataFrame) : dataset의 object가 pd.DataFrame이면 A 실행, 아니면 B 실행"
   ]
  },
  {
   "cell_type": "code",
   "execution_count": 9,
   "metadata": {},
   "outputs": [],
   "source": [
    "import numpy as np\n",
    "# isinstance(dataset, object 명칭)\n",
    "test1 = [1,2,3,4]\n",
    "test2 = {\"a\":1, \"b\":2}\n",
    "test3 = np.array(test1)"
   ]
  },
  {
   "cell_type": "code",
   "execution_count": 11,
   "metadata": {},
   "outputs": [
    {
     "name": "stdout",
     "output_type": "stream",
     "text": [
      "ok\n"
     ]
    }
   ],
   "source": [
    "if isinstance(test1, list):\n",
    "    print(\"ok\")"
   ]
  },
  {
   "cell_type": "code",
   "execution_count": 12,
   "metadata": {},
   "outputs": [],
   "source": [
    "# eigenvector -> SVD "
   ]
  },
  {
   "cell_type": "code",
   "execution_count": null,
   "metadata": {},
   "outputs": [],
   "source": []
  }
 ],
 "metadata": {
  "kernelspec": {
   "display_name": "Python 3",
   "language": "python",
   "name": "python3"
  },
  "language_info": {
   "codemirror_mode": {
    "name": "ipython",
    "version": 3
   },
   "file_extension": ".py",
   "mimetype": "text/x-python",
   "name": "python",
   "nbconvert_exporter": "python",
   "pygments_lexer": "ipython3",
   "version": "3.8.5"
  }
 },
 "nbformat": 4,
 "nbformat_minor": 4
}
